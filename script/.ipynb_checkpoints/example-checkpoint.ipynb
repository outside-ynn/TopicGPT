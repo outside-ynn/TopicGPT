{
 "cells": [
  {
   "cell_type": "markdown",
   "metadata": {},
   "source": [
    "!pip install -r requirements.txt"
   ]
  },
  {
   "cell_type": "code",
   "execution_count": 1,
   "metadata": {},
   "outputs": [],
   "source": [
    "data_file = \"../data/input/bills_subset.jsonl\"\n",
    "data_sample = \"../data/input/sample.jsonl\"\n",
    "\n",
    "## Generation I/O\n",
    "generation_prompt = \"../prompt/generation_1.txt\"\n",
    "seed_1 = \"../prompt/seed_1.md\"\n",
    "generation_out = \"../data/output/generation_1.jsonl\"\n",
    "generation_topic = \"../data/output/generation_1.md\"\n",
    "\n",
    "# Refinement I/O\n",
    "refinement_prompt = \"../prompt/refinement.txt\"\n",
    "refinement_out = \"../data/output/refinement.jsonl\"\n",
    "refinement_topic = \"../data/output/refinement.md\"\n",
    "refinement_mapping = \"../data/output/refinement_mapping.txt\"\n",
    "refinement_updated = \"../data/output/refinement_updated.jsonl\"\n",
    "\n",
    "# Generation 2 I/O\n",
    "generation_2_prompt = \"../prompt/generation_2.txt\"\n",
    "generation_2_out = \"../data/output/generation_2.jsonl\"\n",
    "generation_2_topic = \"../data/output/generation_2.md\"\n",
    "\n",
    "## Assignment I/O\n",
    "assignment_prompt = \"../prompt/assignment.txt\"\n",
    "assignment_out = \"../data/output/assignment.jsonl\"\n",
    "\n",
    "## Correction I/O\n",
    "correction_prompt = \"../prompt/correction.txt\"\n",
    "correction_out = \"../data/output/assignment_corrected.jsonl\""
   ]
  },
  {
   "cell_type": "code",
   "execution_count": 2,
   "metadata": {},
   "outputs": [
    {
     "name": "stdout",
     "output_type": "stream",
     "text": [
      "当前使用的 API 密钥是： sk-LpsC8sicmvbFs78FyRCcDat1BOH3hewchyV7Z8qSaa9YdwB7\n"
     ]
    }
   ],
   "source": [
    "from openai import OpenAI\n",
    "\n",
    "client = OpenAI(\n",
    "    api_key=\"sk-LpsC8sicmvbFs78FyRCcDat1BOH3hewchyV7Z8qSaa9YdwB7\",\n",
    "    base_url=\"https://new.yunai.link/v1\"\n",
    ")\n",
    "\n",
    "print(\"当前使用的 API 密钥是：\", client.api_key)"
   ]
  },
  {
   "cell_type": "code",
   "execution_count": null,
   "metadata": {
    "vscode": {
     "languageId": "shellscript"
    }
   },
   "outputs": [
    {
     "name": "stderr",
     "output_type": "stream",
     "text": [
      "  0%|                                                                                            | 0/5 [00:00<?, ?it/s]E:\\anaconda\\envs\\topic\\Lib\\site-packages\\transformers\\tokenization_utils_base.py:1617: FutureWarning: `clean_up_tokenization_spaces` was not set. It will be set to `True` by default. This behavior will be deprecated in transformers v4.45, and will be then set to `False` by default. For more details check this issue: https://github.com/huggingface/transformers/issues/31884\n",
      "  warnings.warn(\n",
      "Traceback (most recent call last):\n",
      "  File \"E:\\anaconda\\envs\\topic\\Lib\\site-packages\\tenacity\\__init__.py\", line 382, in __call__\n",
      "    result = fn(*args, **kwargs)\n",
      "             ^^^^^^^^^^^^^^^^^^^\n",
      "  File \"C:\\Users\\yangn\\Desktop\\topicGPT-main\\script\\utils.py\", line 52, in api_call\n",
      "    return response.choices[0].message.content\n",
      "           ^^^^^^^^^^^^^^^^\n",
      "AttributeError: 'str' object has no attribute 'choices'\n",
      "\n",
      "The above exception was the direct cause of the following exception:\n",
      "\n",
      "Traceback (most recent call last):\n",
      "  File \"C:\\Users\\yangn\\Desktop\\topicGPT-main\\script\\generation_1.py\", line 126, in generate_topics\n",
      "    response = api_call(prompt, deployment_name, temperature, max_tokens, top_p)\n",
      "               ^^^^^^^^^^^^^^^^^^^^^^^^^^^^^^^^^^^^^^^^^^^^^^^^^^^^^^^^^^^^^^^^^\n",
      "  File \"E:\\anaconda\\envs\\topic\\Lib\\site-packages\\tenacity\\__init__.py\", line 289, in wrapped_f\n",
      "    return self(f, *args, **kw)\n",
      "           ^^^^^^^^^^^^^^^^^^^^\n",
      "  File \"E:\\anaconda\\envs\\topic\\Lib\\site-packages\\tenacity\\__init__.py\", line 379, in __call__\n",
      "    do = self.iter(retry_state=retry_state)\n",
      "         ^^^^^^^^^^^^^^^^^^^^^^^^^^^^^^^^^^\n",
      "  File \"E:\\anaconda\\envs\\topic\\Lib\\site-packages\\tenacity\\__init__.py\", line 326, in iter\n",
      "    raise retry_exc from fut.exception()\n",
      "tenacity.RetryError: RetryError[<Future at 0x1a071d699d0 state=finished raised AttributeError>]\n",
      " 20%|████████████████▊                                                                   | 1/5 [00:49<03:17, 49.49s/it]Traceback (most recent call last):\n",
      "  File \"E:\\anaconda\\envs\\topic\\Lib\\site-packages\\tenacity\\__init__.py\", line 382, in __call__\n",
      "    result = fn(*args, **kwargs)\n",
      "             ^^^^^^^^^^^^^^^^^^^\n",
      "  File \"C:\\Users\\yangn\\Desktop\\topicGPT-main\\script\\utils.py\", line 52, in api_call\n",
      "    return response.choices[0].message.content\n",
      "           ^^^^^^^^^^^^^^^^\n",
      "AttributeError: 'str' object has no attribute 'choices'\n",
      "\n",
      "The above exception was the direct cause of the following exception:\n",
      "\n",
      "Traceback (most recent call last):\n",
      "  File \"C:\\Users\\yangn\\Desktop\\topicGPT-main\\script\\generation_1.py\", line 126, in generate_topics\n",
      "    response = api_call(prompt, deployment_name, temperature, max_tokens, top_p)\n",
      "               ^^^^^^^^^^^^^^^^^^^^^^^^^^^^^^^^^^^^^^^^^^^^^^^^^^^^^^^^^^^^^^^^^\n",
      "  File \"E:\\anaconda\\envs\\topic\\Lib\\site-packages\\tenacity\\__init__.py\", line 289, in wrapped_f\n",
      "    return self(f, *args, **kw)\n",
      "           ^^^^^^^^^^^^^^^^^^^^\n",
      "  File \"E:\\anaconda\\envs\\topic\\Lib\\site-packages\\tenacity\\__init__.py\", line 379, in __call__\n",
      "    do = self.iter(retry_state=retry_state)\n",
      "         ^^^^^^^^^^^^^^^^^^^^^^^^^^^^^^^^^^\n",
      "  File \"E:\\anaconda\\envs\\topic\\Lib\\site-packages\\tenacity\\__init__.py\", line 326, in iter\n",
      "    raise retry_exc from fut.exception()\n",
      "tenacity.RetryError: RetryError[<Future at 0x1a07156f310 state=finished raised AttributeError>]\n",
      " 40%|█████████████████████████████████▌                                                  | 2/5 [01:39<02:29, 49.73s/it]"
     ]
    }
   ],
   "source": [
    "# Description: Example of how to run the generation script\n",
    "%run generation_1.py --deployment_name gpt-4 \\\n",
    "                    --max_tokens 300 --temperature 0.0 --top_p 0.0 \\\n",
    "                    --data $data_sample \\\n",
    "                    --prompt_file $generation_prompt \\\n",
    "                    --seed_file $seed_1 \\\n",
    "                    --out_file $generation_out \\\n",
    "                    --topic_file $generation_topic \\\n",
    "                    --verbose True"
   ]
  },
  {
   "cell_type": "code",
   "execution_count": null,
   "metadata": {
    "vscode": {
     "languageId": "shellscript"
    }
   },
   "outputs": [],
   "source": [
    "# Refinement \n",
    "# Run the script multiple times to get a better result\n",
    "# Default: 1 runs\n",
    "%run refinement.py --deployment_name gpt-4 \\\n",
    "                    --max_tokens 500 --temperature 0.0 --top_p 0.0 \\\n",
    "                    --prompt_file $refinement_prompt \\\n",
    "                    --generation_file $generation_out \\\n",
    "                    --topic_file $generation_topic \\\n",
    "                    --out_file $refinement_out \\\n",
    "                    --verbose True \\\n",
    "                    --updated_file $refinement_updated \\\n",
    "                    --mapping_file $refinement_mapping \\\n",
    "                    --refined_again False \\\n",
    "                    --remove False"
   ]
  },
  {
   "cell_type": "code",
   "execution_count": null,
   "metadata": {
    "vscode": {
     "languageId": "shellscript"
    }
   },
   "outputs": [],
   "source": [
    "%run generation_2.py --deployment_name gpt-4 \\\n",
    "                    --max_tokens 500 --temperature 0.0 --top_p 0.0 \\\n",
    "                    --data $generation_out \\\n",
    "                    --seed_file $generation_topic \\\n",
    "                    --prompt_file $generation_2_prompt \\\n",
    "                    --out_file $generation_2_out \\\n",
    "                    --topic_file $generation_2_topic \\\n",
    "                    --verbose True"
   ]
  },
  {
   "cell_type": "code",
   "execution_count": null,
   "metadata": {
    "vscode": {
     "languageId": "shellscript"
    }
   },
   "outputs": [],
   "source": [
    "# Assignment\n",
    "%run assignment.py --deployment_name gpt-3.5-turbo \\\n",
    "                        --max_tokens 300 --temperature 0.0 --top_p 0.0 \\\n",
    "                        --data $data_sample \\\n",
    "                        --prompt_file $assignment_prompt \\\n",
    "                        --topic_file $generation_topic \\\n",
    "                        --out_file $assignment_out \\\n",
    "                        --verbose True"
   ]
  },
  {
   "cell_type": "code",
   "execution_count": null,
   "metadata": {},
   "outputs": [],
   "source": [
    "# Printing out topic list\n",
    "with open(\"../data/output/generation_1.md\", \"r\") as f:\n",
    "    generated_topics = f.readlines()\n",
    "    for line in generated_topics:\n",
    "        print(line)"
   ]
  },
  {
   "cell_type": "code",
   "execution_count": null,
   "metadata": {},
   "outputs": [],
   "source": []
  }
 ],
 "metadata": {
  "kernelspec": {
   "display_name": "topic",
   "language": "python",
   "name": "topic"
  },
  "language_info": {
   "codemirror_mode": {
    "name": "ipython",
    "version": 3
   },
   "file_extension": ".py",
   "mimetype": "text/x-python",
   "name": "python",
   "nbconvert_exporter": "python",
   "pygments_lexer": "ipython3",
   "version": "3.11.9"
  }
 },
 "nbformat": 4,
 "nbformat_minor": 4
}
