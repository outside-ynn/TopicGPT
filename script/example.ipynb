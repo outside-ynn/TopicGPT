{
 "cells": [
  {
   "cell_type": "markdown",
   "metadata": {},
   "source": [
    "!pip install -r requirements.txt"
   ]
  },
  {
   "cell_type": "code",
   "execution_count": 1,
   "metadata": {},
   "outputs": [],
   "source": [
    "data_file = \"../data/input/bills_subset.jsonl\"\n",
    "data_sample = \"../data/input/sample.jsonl\"\n",
    "\n",
    "## Generation I/O\n",
    "generation_prompt = \"../prompt/generation_1.txt\"\n",
    "seed_1 = \"../prompt/seed_1.md\"\n",
    "generation_out = \"../data/output/generation_1.jsonl\"\n",
    "generation_topic = \"../data/output/generation_1.md\"\n",
    "\n",
    "# Refinement I/O\n",
    "refinement_prompt = \"../prompt/refinement.txt\"\n",
    "refinement_out = \"../data/output/refinement.jsonl\"\n",
    "refinement_topic = \"../data/output/refinement.md\"\n",
    "refinement_mapping = \"../data/output/refinement_mapping.txt\"\n",
    "refinement_updated = \"../data/output/refinement_updated.jsonl\"\n",
    "\n",
    "# Generation 2 I/O\n",
    "generation_2_prompt = \"../prompt/generation_2.txt\"\n",
    "generation_2_out = \"../data/output/generation_2.jsonl\"\n",
    "generation_2_topic = \"../data/output/generation_2.md\"\n",
    "\n",
    "## Assignment I/O\n",
    "assignment_prompt = \"../prompt/assignment.txt\"\n",
    "assignment_out = \"../data/output/assignment.jsonl\"\n",
    "\n",
    "## Correction I/O\n",
    "correction_prompt = \"../prompt/correction.txt\"\n",
    "correction_out = \"../data/output/assignment_corrected.jsonl\""
   ]
  },
  {
   "cell_type": "code",
   "execution_count": 2,
   "metadata": {},
   "outputs": [
    {
     "name": "stdout",
     "output_type": "stream",
     "text": [
      "当前使用的 API 密钥是： sk-LpsC8sicmvbFs78FyRCcDat1BOH3hewchyV7Z8qSaa9YdwB7\n"
     ]
    }
   ],
   "source": [
    "from openai import OpenAI\n",
    "\n",
    "client = OpenAI(\n",
    "    api_key=\"sk-LpsC8sicmvbFs78FyRCcDat1BOH3hewchyV7Z8qSaa9YdwB7\",\n",
    "    base_url=\"https://new.yunai.link/v1\"\n",
    ")\n",
    "\n",
    "print(\"当前使用的 API 密钥是：\", client.api_key)"
   ]
  },
  {
   "cell_type": "code",
   "execution_count": 3,
   "metadata": {
    "vscode": {
     "languageId": "shellscript"
    }
   },
   "outputs": [
    {
     "name": "stderr",
     "output_type": "stream",
     "text": [
      "  0%|                                                                                            | 0/5 [00:00<?, ?it/s]E:\\anaconda\\envs\\topic\\Lib\\site-packages\\transformers\\tokenization_utils_base.py:1617: FutureWarning: `clean_up_tokenization_spaces` was not set. It will be set to `True` by default. This behavior will be deprecated in transformers v4.45, and will be then set to `False` by default. For more details check this issue: https://github.com/huggingface/transformers/issues/31884\n",
      "  warnings.warn(\n",
      " 20%|████████████████▊                                                                   | 1/5 [00:07<00:30,  7.60s/it]"
     ]
    },
    {
     "name": "stdout",
     "output_type": "stream",
     "text": [
      "Document: 1\n",
      "Topics: [1] Environmental Conservation: Mentions the preservation and management of natural areas within the National Forest System and the maintenance of their roadless character.\n",
      "--------------------\n"
     ]
    },
    {
     "name": "stderr",
     "output_type": "stream",
     "text": [
      " 40%|█████████████████████████████████▌                                                  | 2/5 [00:14<00:20,  6.90s/it]"
     ]
    },
    {
     "name": "stdout",
     "output_type": "stream",
     "text": [
      "Document: 2\n",
      "Topics: [1] Environmental Conservation: Includes compensation and management practices related to the use of natural resources for hydropower generation.\n",
      "--------------------\n"
     ]
    },
    {
     "name": "stderr",
     "output_type": "stream",
     "text": [
      " 60%|██████████████████████████████████████████████████▍                                 | 3/5 [00:20<00:13,  6.88s/it]"
     ]
    },
    {
     "name": "stdout",
     "output_type": "stream",
     "text": [
      "Document: 3\n",
      "Topics: [1] Environmental Conservation: Discussions on measures and policies for preserving marine ecosystems and wildlife.\n",
      "--------------------\n"
     ]
    },
    {
     "name": "stderr",
     "output_type": "stream",
     "text": [
      " 80%|███████████████████████████████████████████████████████████████████▏                | 4/5 [00:27<00:06,  6.66s/it]"
     ]
    },
    {
     "name": "stdout",
     "output_type": "stream",
     "text": [
      "Document: 4\n",
      "Topics: [1] Transportation: Mentions the development and management of systems for moving goods and people.\n",
      "--------------------\n"
     ]
    },
    {
     "name": "stderr",
     "output_type": "stream",
     "text": [
      "100%|████████████████████████████████████████████████████████████████████████████████████| 5/5 [00:34<00:00,  6.81s/it]"
     ]
    },
    {
     "name": "stdout",
     "output_type": "stream",
     "text": [
      "Document: 5\n",
      "Topics: [1] Transportation: Discusses regulations concerning the issuance of driver's licenses and identification, which falls under the broader topic of transportation systems and policies.\n",
      "--------------------\n"
     ]
    },
    {
     "name": "stderr",
     "output_type": "stream",
     "text": [
      "\n"
     ]
    }
   ],
   "source": [
    "# Description: Example of how to run the generation script\n",
    "%run generation_1.py --deployment_name gpt-4 \\\n",
    "                    --max_tokens 300 --temperature 0.0 --top_p 0.0 \\\n",
    "                    --data $data_sample \\\n",
    "                    --prompt_file $generation_prompt \\\n",
    "                    --seed_file $seed_1 \\\n",
    "                    --out_file $generation_out \\\n",
    "                    --topic_file $generation_topic \\\n",
    "                    --verbose True"
   ]
  },
  {
   "cell_type": "code",
   "execution_count": 4,
   "metadata": {
    "vscode": {
     "languageId": "shellscript"
    }
   },
   "outputs": [
    {
     "name": "stdout",
     "output_type": "stream",
     "text": [
      "No updated/merged topics!\n"
     ]
    },
    {
     "name": "stderr",
     "output_type": "stream",
     "text": [
      "E:\\anaconda\\envs\\topic\\Lib\\site-packages\\transformers\\tokenization_utils_base.py:1617: FutureWarning: `clean_up_tokenization_spaces` was not set. It will be set to `True` by default. This behavior will be deprecated in transformers v4.45, and will be then set to `False` by default. For more details check this issue: https://github.com/huggingface/transformers/issues/31884\n",
      "  warnings.warn(\n"
     ]
    }
   ],
   "source": [
    "# Refinement \n",
    "# Run the script multiple times to get a better result\n",
    "# Default: 1 runs\n",
    "%run refinement.py --deployment_name gpt-4 \\\n",
    "                    --max_tokens 500 --temperature 0.0 --top_p 0.0 \\\n",
    "                    --prompt_file $refinement_prompt \\\n",
    "                    --generation_file $generation_out \\\n",
    "                    --topic_file $generation_topic \\\n",
    "                    --out_file $refinement_out \\\n",
    "                    --verbose True \\\n",
    "                    --updated_file $refinement_updated \\\n",
    "                    --mapping_file $refinement_mapping \\\n",
    "                    --refined_again False \\\n",
    "                    --remove False"
   ]
  },
  {
   "cell_type": "code",
   "execution_count": 5,
   "metadata": {
    "vscode": {
     "languageId": "shellscript"
    }
   },
   "outputs": [
    {
     "name": "stdout",
     "output_type": "stream",
     "text": [
      "Number of remaining documents for prompting: 5\n"
     ]
    },
    {
     "name": "stderr",
     "output_type": "stream",
     "text": [
      "  0%|                                                                                            | 0/2 [00:00<?, ?it/s]"
     ]
    },
    {
     "name": "stdout",
     "output_type": "stream",
     "text": [
      "Current topic: [1] Environmental Conservation\n",
      "Prompt length: 1860\n"
     ]
    },
    {
     "name": "stderr",
     "output_type": "stream",
     "text": [
      " 50%|██████████████████████████████████████████                                          | 1/2 [00:08<00:08,  8.92s/it]"
     ]
    },
    {
     "name": "stdout",
     "output_type": "stream",
     "text": [
      "Subtopics: [1] Environmental Conservation\n",
      "    [2] Land and Cultural Resource Management (Document: 1, 2): Discusses the conservation of roadless areas in national forests and compensation for indigenous lands used for hydroelectric power generation, including cultural resource management.\n",
      "    [2] Marine Ecosystem Protection (Document: 3): Deals with the preservation of marine habitats affected by offshore oil and gas platforms, including the transition of retired platforms into artificial reefs for fisheries.\n",
      "Adding subtopics for [1] Environmental Conservation\n",
      "Added topic: [2] Land and Cultural Resource Management (Count: 2): Discusses the conservation of roadless areas in national forests and compensation for indigenous lands used for hydroelectric power generation, including cultural resource management.\n",
      "Added topic: [2] Marine Ecosystem Protection (Count: 1): Deals with the preservation of marine habitats affected by offshore oil and gas platforms, including the transition of retired platforms into artificial reefs for fisheries.\n",
      "--------------------------------------------------\n",
      "Current topic: [1] Transportation\n",
      "Prompt length: 852\n"
     ]
    },
    {
     "name": "stderr",
     "output_type": "stream",
     "text": [
      "100%|████████████████████████████████████████████████████████████████████████████████████| 2/2 [00:16<00:00,  8.08s/it]"
     ]
    },
    {
     "name": "stdout",
     "output_type": "stream",
     "text": [
      "Subtopics: [1] Transportation\n",
      "    [2] Aviation Infrastructure (Document: 1): Pertains to the development and planning of airport-centered transportation systems.\n",
      "    [2] Regulatory Compliance (Document: 2): Involves the adherence of states to federal regulations concerning licensing and identification.\n",
      "Adding subtopics for [1] Transportation\n",
      "Added topic: [2] Aviation Infrastructure (Count: 1): Pertains to the development and planning of airport-centered transportation systems.\n",
      "Added topic: [2] Regulatory Compliance (Count: 1): Involves the adherence of states to federal regulations concerning licensing and identification.\n",
      "--------------------------------------------------\n"
     ]
    },
    {
     "name": "stderr",
     "output_type": "stream",
     "text": [
      "\n"
     ]
    }
   ],
   "source": [
    "%run generation_2.py --deployment_name gpt-4 \\\n",
    "                    --max_tokens 500 --temperature 0.0 --top_p 0.0 \\\n",
    "                    --data $generation_out \\\n",
    "                    --seed_file $generation_topic \\\n",
    "                    --prompt_file $generation_2_prompt \\\n",
    "                    --out_file $generation_2_out \\\n",
    "                    --topic_file $generation_2_topic \\\n",
    "                    --verbose True"
   ]
  },
  {
   "cell_type": "code",
   "execution_count": 6,
   "metadata": {
    "vscode": {
     "languageId": "shellscript"
    }
   },
   "outputs": [
    {
     "name": "stderr",
     "output_type": "stream",
     "text": [
      "E:\\anaconda\\envs\\topic\\Lib\\site-packages\\transformers\\tokenization_utils_base.py:1617: FutureWarning: `clean_up_tokenization_spaces` was not set. It will be set to `True` by default. This behavior will be deprecated in transformers v4.45, and will be then set to `False` by default. For more details check this issue: https://github.com/huggingface/transformers/issues/31884\n",
      "  warnings.warn(\n",
      " 20%|████████████████▊                                                                   | 1/5 [00:06<00:24,  6.21s/it]"
     ]
    },
    {
     "name": "stdout",
     "output_type": "stream",
     "text": [
      "Document: 1\n",
      "Response: [1] Environmental Conservation: Mentions the identification and management of roadless areas within the National Forest System (\"Identifies roadless areas within the National Forest System...to maintain their roadless character.\")\n",
      "[1] Transportation: Mentions the modification of maps for the purpose of improving accuracy or inclusiveness (\"Authorizes the Forest Service to modify such maps for the sole purpose of improving their accuracy or inclusiveness.\")\n",
      "--------------------\n"
     ]
    },
    {
     "name": "stderr",
     "output_type": "stream",
     "text": [
      " 40%|█████████████████████████████████▌                                                  | 2/5 [00:14<00:21,  7.23s/it]"
     ]
    },
    {
     "name": "stdout",
     "output_type": "stream",
     "text": [
      "Document: 2\n",
      "Response: [1] Environmental Conservation: Compensation for the use of land for hydropower generation (\"...compensate the Spokane Tribe of Indians of the Spokane Reservation...for the use of its land for hydropower generation...\")\n",
      "[1] Transportation: None \n",
      "\n",
      "Quotes:\n",
      "- \"States that the purpose of this Act is to compensate the Spokane Tribe of Indians of the Spokane Reservation, Washington State for the use of its land for hydropower generation by the Grand Coulee Dam.\"\n",
      "- \"Directs the Administrator of the Bonneville Power Administration (or the head of a successor entity that markets power produced at the Grand Coulee Dam) to pay to the Tribe: (1) on March 1, 2010, 29% of the computed annual payment for FY2009; and (2) on March 1 of each subsequent year, 29% of the computed annual payment for the preceding fiscal year.\"\n",
      "- \"Directs the Secretary to transfer administrative jurisdiction from the Bureau of Reclamation to the Bureau of Indian Affairs (BIA) over certain land located within the exterior boundaries of the Spokane Indian Reservation.\"\n",
      "--------------------\n"
     ]
    },
    {
     "name": "stderr",
     "output_type": "stream",
     "text": [
      " 60%|██████████████████████████████████████████████████▍                                 | 3/5 [00:23<00:16,  8.06s/it]"
     ]
    },
    {
     "name": "stdout",
     "output_type": "stream",
     "text": [
      "Document: 3\n",
      "Response: [1] Environmental Conservation: Mentions offshore oil and gas platforms becoming critical for a marine fisheries habitat (\"...assess each offshore oil and gas platform...that has become critical for a marine fisheries habitat...\")\n",
      "[1] Environmental Conservation: Mentions determining whether there are coral populations or other protected species in the platform's vicinity (\"...determine whether there are coral populations or other protected species in the platform's vicinity...\")\n",
      "[1] Environmental Conservation: Mentions suspending decommissioning if a substantial reef ecosystem is in the vicinity (\"...Requires suspension of the decommissioning of a platform if a substantial reef ecosystem is in the vicinity until the Secretary determines that decommissioning would not harm the ecosystem.\")\n",
      "[1] Environmental Conservation: Mentions allowing states with a rig-to-reef program to assume liability for structures in federal waters (\"...Permits states with a state rig-to-reef program to enter agreements with any appropriate entities to assume liability in federal water for a structure covered by the state program.\")\n",
      "[1] Environmental Conservation: Mentions establishing a Reef Maintenance Fund and requiring rig owners to contribute to platform removal costs (\"...Establishes a Reef Maintenance Fund. Requires the owner of a rig enrolled in the artificial reef program to...pay into the Fund 50% of the estimated platform removal costs for which the owner would have been responsible if it had not participated in the program.\")\n",
      "--------------------\n"
     ]
    },
    {
     "name": "stderr",
     "output_type": "stream",
     "text": [
      " 80%|███████████████████████████████████████████████████████████████████▏                | 4/5 [00:29<00:07,  7.35s/it]"
     ]
    },
    {
     "name": "stdout",
     "output_type": "stream",
     "text": [
      "Document: 4\n",
      "Response: [1] Environmental Conservation: Mentions the development of aerotropolis transportation systems that provide efficient and sustainable connectivity (\"...aerotropolis transportation systems (i.e., planned and coordinated multimodal freight and passenger transportation networks that provide efficient, sustainable, and intermodal connectivity...\")\n",
      "\n",
      "[1] Transportation: Mentions the establishment of an aerotropolis grant program to assist in the development of transportation systems (\"...establish an aerotropolis grant program to assist in the development of aerotropolis transportation systems...\")\n",
      "--------------------\n"
     ]
    },
    {
     "name": "stderr",
     "output_type": "stream",
     "text": [
      "100%|████████████████████████████████████████████████████████████████████████████████████| 5/5 [00:35<00:00,  7.20s/it]"
     ]
    },
    {
     "name": "stdout",
     "output_type": "stream",
     "text": [
      "Document: 5\n",
      "Response: [Document]\n",
      "Prevention of Unsafe Licensing Act - Amends the REAL ID Act of 2005 to prohibit a state from issuing a driver's license or identification document to a person unless the state has complied with certain citizenship or lawful immigration status verification requirements.\n",
      "\n",
      "Assignment:\n",
      "[1] Transportation: The document pertains to driver's license issuance, which is directly related to transportation (\"...prohibit a state from issuing a driver's license or identification document to a person...\")\n",
      "\n",
      "Topic labels:\n",
      "[1] Transportation\n",
      "\n",
      "Assignment reasoning and supporting quote:\n",
      "[1] Transportation: The document pertains to driver's license issuance, which is directly related to transportation (\"...prohibit a state from issuing a driver's license or identification document to a person...\")\n",
      "--------------------\n"
     ]
    },
    {
     "name": "stderr",
     "output_type": "stream",
     "text": [
      "\n"
     ]
    }
   ],
   "source": [
    "# Assignment\n",
    "%run assignment.py --deployment_name gpt-3.5-turbo \\\n",
    "                        --max_tokens 300 --temperature 0.0 --top_p 0.0 \\\n",
    "                        --data $data_sample \\\n",
    "                        --prompt_file $assignment_prompt \\\n",
    "                        --topic_file $generation_topic \\\n",
    "                        --out_file $assignment_out \\\n",
    "                        --verbose True"
   ]
  },
  {
   "cell_type": "code",
   "execution_count": 7,
   "metadata": {},
   "outputs": [
    {
     "name": "stdout",
     "output_type": "stream",
     "text": [
      "[1] Environmental Conservation (Count: 3): Mentions the preservation and management of natural areas within the National Forest System and the maintenance of their roadless character.\n",
      "\n",
      "[1] Transportation (Count: 2): Mentions the development and management of systems for moving goods and people.\n",
      "\n",
      "\n",
      "\n"
     ]
    }
   ],
   "source": [
    "# Printing out topic list\n",
    "with open(\"../data/output/generation_1.md\", \"r\") as f:\n",
    "    generated_topics = f.readlines()\n",
    "    for line in generated_topics:\n",
    "        print(line)"
   ]
  },
  {
   "cell_type": "code",
   "execution_count": null,
   "metadata": {},
   "outputs": [],
   "source": []
  }
 ],
 "metadata": {
  "kernelspec": {
   "display_name": "topic",
   "language": "python",
   "name": "topic"
  },
  "language_info": {
   "codemirror_mode": {
    "name": "ipython",
    "version": 3
   },
   "file_extension": ".py",
   "mimetype": "text/x-python",
   "name": "python",
   "nbconvert_exporter": "python",
   "pygments_lexer": "ipython3",
   "version": "3.11.9"
  }
 },
 "nbformat": 4,
 "nbformat_minor": 4
}
